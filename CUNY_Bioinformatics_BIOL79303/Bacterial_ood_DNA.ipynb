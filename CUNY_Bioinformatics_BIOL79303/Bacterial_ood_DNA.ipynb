{
  "nbformat": 4,
  "nbformat_minor": 0,
  "metadata": {
    "colab": {
      "name": "Bacterial_ood_DNA.ipynb",
      "provenance": [],
      "collapsed_sections": []
    },
    "kernelspec": {
      "name": "python3",
      "display_name": "Python 3"
    },
    "language_info": {
      "name": "python"
    },
    "widgets": {
      "application/vnd.jupyter.widget-state+json": {
        "19f8cfe194574e10b3d3c1afaa268724": {
          "model_module": "@jupyter-widgets/controls",
          "model_name": "HBoxModel",
          "model_module_version": "1.5.0",
          "state": {
            "_view_name": "HBoxView",
            "_dom_classes": [],
            "_model_name": "HBoxModel",
            "_view_module": "@jupyter-widgets/controls",
            "_model_module_version": "1.5.0",
            "_view_count": null,
            "_view_module_version": "1.5.0",
            "box_style": "",
            "layout": "IPY_MODEL_babaef6389e3448593df9634f6cdda35",
            "_model_module": "@jupyter-widgets/controls",
            "children": [
              "IPY_MODEL_f0e79df07f6d4188b94c5add64f99293",
              "IPY_MODEL_714b908c85ca479db9c8962a0d10f2f2",
              "IPY_MODEL_daae9decbf2d44f4b5ce18006ed93721"
            ]
          }
        },
        "babaef6389e3448593df9634f6cdda35": {
          "model_module": "@jupyter-widgets/base",
          "model_name": "LayoutModel",
          "model_module_version": "1.2.0",
          "state": {
            "_view_name": "LayoutView",
            "grid_template_rows": null,
            "right": null,
            "justify_content": null,
            "_view_module": "@jupyter-widgets/base",
            "overflow": null,
            "_model_module_version": "1.2.0",
            "_view_count": null,
            "flex_flow": null,
            "width": null,
            "min_width": null,
            "border": null,
            "align_items": null,
            "bottom": null,
            "_model_module": "@jupyter-widgets/base",
            "top": null,
            "grid_column": null,
            "overflow_y": null,
            "overflow_x": null,
            "grid_auto_flow": null,
            "grid_area": null,
            "grid_template_columns": null,
            "flex": null,
            "_model_name": "LayoutModel",
            "justify_items": null,
            "grid_row": null,
            "max_height": null,
            "align_content": null,
            "visibility": null,
            "align_self": null,
            "height": null,
            "min_height": null,
            "padding": null,
            "grid_auto_rows": null,
            "grid_gap": null,
            "max_width": null,
            "order": null,
            "_view_module_version": "1.2.0",
            "grid_template_areas": null,
            "object_position": null,
            "object_fit": null,
            "grid_auto_columns": null,
            "margin": null,
            "display": null,
            "left": null
          }
        },
        "f0e79df07f6d4188b94c5add64f99293": {
          "model_module": "@jupyter-widgets/controls",
          "model_name": "HTMLModel",
          "model_module_version": "1.5.0",
          "state": {
            "_view_name": "HTMLView",
            "style": "IPY_MODEL_4b01f3d288de43c59bb40fb7e7134630",
            "_dom_classes": [],
            "description": "",
            "_model_name": "HTMLModel",
            "placeholder": "​",
            "_view_module": "@jupyter-widgets/controls",
            "_model_module_version": "1.5.0",
            "value": "Dl Completed...: 100%",
            "_view_count": null,
            "_view_module_version": "1.5.0",
            "description_tooltip": null,
            "_model_module": "@jupyter-widgets/controls",
            "layout": "IPY_MODEL_0970bf7e15c94bf19ccc51bf4b562ea3"
          }
        },
        "714b908c85ca479db9c8962a0d10f2f2": {
          "model_module": "@jupyter-widgets/controls",
          "model_name": "FloatProgressModel",
          "model_module_version": "1.5.0",
          "state": {
            "_view_name": "ProgressView",
            "style": "IPY_MODEL_8c348be034ea4146bb426611ad75f688",
            "_dom_classes": [],
            "description": "",
            "_model_name": "FloatProgressModel",
            "bar_style": "success",
            "max": 12,
            "_view_module": "@jupyter-widgets/controls",
            "_model_module_version": "1.5.0",
            "value": 12,
            "_view_count": null,
            "_view_module_version": "1.5.0",
            "orientation": "horizontal",
            "min": 0,
            "description_tooltip": null,
            "_model_module": "@jupyter-widgets/controls",
            "layout": "IPY_MODEL_2ddf044344d3465fb5acc01ee442f16c"
          }
        },
        "daae9decbf2d44f4b5ce18006ed93721": {
          "model_module": "@jupyter-widgets/controls",
          "model_name": "HTMLModel",
          "model_module_version": "1.5.0",
          "state": {
            "_view_name": "HTMLView",
            "style": "IPY_MODEL_35b7d6bfbf4c4068b51de924419dc15f",
            "_dom_classes": [],
            "description": "",
            "_model_name": "HTMLModel",
            "placeholder": "​",
            "_view_module": "@jupyter-widgets/controls",
            "_model_module_version": "1.5.0",
            "value": " 12/12 [00:08&lt;00:00,  1.35 file/s]",
            "_view_count": null,
            "_view_module_version": "1.5.0",
            "description_tooltip": null,
            "_model_module": "@jupyter-widgets/controls",
            "layout": "IPY_MODEL_555f3c1869034b2993bde3d61b10eae6"
          }
        },
        "4b01f3d288de43c59bb40fb7e7134630": {
          "model_module": "@jupyter-widgets/controls",
          "model_name": "DescriptionStyleModel",
          "model_module_version": "1.5.0",
          "state": {
            "_view_name": "StyleView",
            "_model_name": "DescriptionStyleModel",
            "description_width": "",
            "_view_module": "@jupyter-widgets/base",
            "_model_module_version": "1.5.0",
            "_view_count": null,
            "_view_module_version": "1.2.0",
            "_model_module": "@jupyter-widgets/controls"
          }
        },
        "0970bf7e15c94bf19ccc51bf4b562ea3": {
          "model_module": "@jupyter-widgets/base",
          "model_name": "LayoutModel",
          "model_module_version": "1.2.0",
          "state": {
            "_view_name": "LayoutView",
            "grid_template_rows": null,
            "right": null,
            "justify_content": null,
            "_view_module": "@jupyter-widgets/base",
            "overflow": null,
            "_model_module_version": "1.2.0",
            "_view_count": null,
            "flex_flow": null,
            "width": null,
            "min_width": null,
            "border": null,
            "align_items": null,
            "bottom": null,
            "_model_module": "@jupyter-widgets/base",
            "top": null,
            "grid_column": null,
            "overflow_y": null,
            "overflow_x": null,
            "grid_auto_flow": null,
            "grid_area": null,
            "grid_template_columns": null,
            "flex": null,
            "_model_name": "LayoutModel",
            "justify_items": null,
            "grid_row": null,
            "max_height": null,
            "align_content": null,
            "visibility": null,
            "align_self": null,
            "height": null,
            "min_height": null,
            "padding": null,
            "grid_auto_rows": null,
            "grid_gap": null,
            "max_width": null,
            "order": null,
            "_view_module_version": "1.2.0",
            "grid_template_areas": null,
            "object_position": null,
            "object_fit": null,
            "grid_auto_columns": null,
            "margin": null,
            "display": null,
            "left": null
          }
        },
        "8c348be034ea4146bb426611ad75f688": {
          "model_module": "@jupyter-widgets/controls",
          "model_name": "ProgressStyleModel",
          "model_module_version": "1.5.0",
          "state": {
            "_view_name": "StyleView",
            "_model_name": "ProgressStyleModel",
            "description_width": "",
            "_view_module": "@jupyter-widgets/base",
            "_model_module_version": "1.5.0",
            "_view_count": null,
            "_view_module_version": "1.2.0",
            "bar_color": null,
            "_model_module": "@jupyter-widgets/controls"
          }
        },
        "2ddf044344d3465fb5acc01ee442f16c": {
          "model_module": "@jupyter-widgets/base",
          "model_name": "LayoutModel",
          "model_module_version": "1.2.0",
          "state": {
            "_view_name": "LayoutView",
            "grid_template_rows": null,
            "right": null,
            "justify_content": null,
            "_view_module": "@jupyter-widgets/base",
            "overflow": null,
            "_model_module_version": "1.2.0",
            "_view_count": null,
            "flex_flow": null,
            "width": null,
            "min_width": null,
            "border": null,
            "align_items": null,
            "bottom": null,
            "_model_module": "@jupyter-widgets/base",
            "top": null,
            "grid_column": null,
            "overflow_y": null,
            "overflow_x": null,
            "grid_auto_flow": null,
            "grid_area": null,
            "grid_template_columns": null,
            "flex": null,
            "_model_name": "LayoutModel",
            "justify_items": null,
            "grid_row": null,
            "max_height": null,
            "align_content": null,
            "visibility": null,
            "align_self": null,
            "height": null,
            "min_height": null,
            "padding": null,
            "grid_auto_rows": null,
            "grid_gap": null,
            "max_width": null,
            "order": null,
            "_view_module_version": "1.2.0",
            "grid_template_areas": null,
            "object_position": null,
            "object_fit": null,
            "grid_auto_columns": null,
            "margin": null,
            "display": null,
            "left": null
          }
        },
        "35b7d6bfbf4c4068b51de924419dc15f": {
          "model_module": "@jupyter-widgets/controls",
          "model_name": "DescriptionStyleModel",
          "model_module_version": "1.5.0",
          "state": {
            "_view_name": "StyleView",
            "_model_name": "DescriptionStyleModel",
            "description_width": "",
            "_view_module": "@jupyter-widgets/base",
            "_model_module_version": "1.5.0",
            "_view_count": null,
            "_view_module_version": "1.2.0",
            "_model_module": "@jupyter-widgets/controls"
          }
        },
        "555f3c1869034b2993bde3d61b10eae6": {
          "model_module": "@jupyter-widgets/base",
          "model_name": "LayoutModel",
          "model_module_version": "1.2.0",
          "state": {
            "_view_name": "LayoutView",
            "grid_template_rows": null,
            "right": null,
            "justify_content": null,
            "_view_module": "@jupyter-widgets/base",
            "overflow": null,
            "_model_module_version": "1.2.0",
            "_view_count": null,
            "flex_flow": null,
            "width": null,
            "min_width": null,
            "border": null,
            "align_items": null,
            "bottom": null,
            "_model_module": "@jupyter-widgets/base",
            "top": null,
            "grid_column": null,
            "overflow_y": null,
            "overflow_x": null,
            "grid_auto_flow": null,
            "grid_area": null,
            "grid_template_columns": null,
            "flex": null,
            "_model_name": "LayoutModel",
            "justify_items": null,
            "grid_row": null,
            "max_height": null,
            "align_content": null,
            "visibility": null,
            "align_self": null,
            "height": null,
            "min_height": null,
            "padding": null,
            "grid_auto_rows": null,
            "grid_gap": null,
            "max_width": null,
            "order": null,
            "_view_module_version": "1.2.0",
            "grid_template_areas": null,
            "object_position": null,
            "object_fit": null,
            "grid_auto_columns": null,
            "margin": null,
            "display": null,
            "left": null
          }
        }
      }
    }
  },
  "cells": [
    {
      "cell_type": "code",
      "metadata": {
        "id": "PlIGi8vmNdM1",
        "colab": {
          "base_uri": "https://localhost:8080/",
          "height": 215,
          "referenced_widgets": [
            "19f8cfe194574e10b3d3c1afaa268724",
            "babaef6389e3448593df9634f6cdda35",
            "f0e79df07f6d4188b94c5add64f99293",
            "714b908c85ca479db9c8962a0d10f2f2",
            "daae9decbf2d44f4b5ce18006ed93721",
            "4b01f3d288de43c59bb40fb7e7134630",
            "0970bf7e15c94bf19ccc51bf4b562ea3",
            "8c348be034ea4146bb426611ad75f688",
            "2ddf044344d3465fb5acc01ee442f16c",
            "35b7d6bfbf4c4068b51de924419dc15f",
            "555f3c1869034b2993bde3d61b10eae6"
          ]
        },
        "outputId": "2d8c510a-1761-4ad2-8159-7324212b364a"
      },
      "source": [
        "import numpy as np\n",
        "import pandas as pd\n",
        "import matplotlib.pyplot as plt\n",
        "import tensorflow as tf\n",
        "import tensorflow_datasets as tfds\n",
        "\n",
        "# load data\n",
        "(genome_train, genome_test) = tfds.load('genomics_ood', split=['train[:1%]', 'test[:1%]'])"
      ],
      "execution_count": 1,
      "outputs": [
        {
          "output_type": "stream",
          "name": "stdout",
          "text": [
            "\u001b[1mDownloading and preparing dataset genomics_ood/0.0.1 (download: Unknown size, generated: 926.87 MiB, total: 926.87 MiB) to /root/tensorflow_datasets/genomics_ood/0.0.1...\u001b[0m\n"
          ]
        },
        {
          "output_type": "stream",
          "name": "stderr",
          "text": [
            "WARNING:absl:Dataset genomics_ood is hosted on GCS. It will automatically be downloaded to your\n",
            "local data directory. If you'd instead prefer to read directly from our public\n",
            "GCS bucket (recommended if you're running on GCP), you can instead pass\n",
            "`try_gcs=True` to `tfds.load` or set `data_dir=gs://tfds-data/datasets`.\n",
            "\n"
          ]
        },
        {
          "output_type": "display_data",
          "data": {
            "application/vnd.jupyter.widget-view+json": {
              "model_id": "19f8cfe194574e10b3d3c1afaa268724",
              "version_minor": 0,
              "version_major": 2
            },
            "text/plain": [
              "Dl Completed...:   0%|          | 0/12 [00:00<?, ? file/s]"
            ]
          },
          "metadata": {}
        },
        {
          "output_type": "stream",
          "name": "stdout",
          "text": [
            "\n",
            "\u001b[1mDataset genomics_ood downloaded and prepared to /root/tensorflow_datasets/genomics_ood/0.0.1. Subsequent calls will reuse this data.\u001b[0m\n"
          ]
        }
      ]
    },
    {
      "cell_type": "code",
      "metadata": {
        "colab": {
          "base_uri": "https://localhost:8080/"
        },
        "id": "ODXDFlugOSLC",
        "outputId": "cb710cbc-edcc-4ec8-b468-7f13cf8b4fcd"
      },
      "source": [
        "print(len(genome_train), len(genome_test))"
      ],
      "execution_count": 2,
      "outputs": [
        {
          "output_type": "stream",
          "name": "stdout",
          "text": [
            "10000 1000\n"
          ]
        }
      ]
    },
    {
      "cell_type": "code",
      "metadata": {
        "id": "D807K6ZL0Mod",
        "colab": {
          "base_uri": "https://localhost:8080/"
        },
        "outputId": "9825587a-6f3d-4244-e3e6-64bef0667ae9"
      },
      "source": [
        "encoding = 'utf-8'\n",
        "sequences_tr = []\n",
        "sequences_tr_label = []\n",
        "i = 0\n",
        "for seq in genome_train:\n",
        "  sequences_tr.append(str(seq['seq'].numpy(), encoding))\n",
        "  sequences_tr_label.append(str(seq['label'].numpy()))\n",
        "  i = i+1\n",
        "  if i==10000:\n",
        "    break\n",
        "\n",
        "print(set(sequences_tr_label))"
      ],
      "execution_count": 3,
      "outputs": [
        {
          "output_type": "stream",
          "name": "stdout",
          "text": [
            "{'6', '0', '3', '2', '7', '1', '4', '8', '9', '5'}\n"
          ]
        }
      ]
    },
    {
      "cell_type": "code",
      "metadata": {
        "id": "twfzAfy9SDV0",
        "colab": {
          "base_uri": "https://localhost:8080/"
        },
        "outputId": "df4d3752-8868-4877-fc81-d8e929883ed6"
      },
      "source": [
        "# encoding the sequences\n",
        "from sklearn.preprocessing import LabelEncoder, OneHotEncoder\n",
        "integer_encoder = LabelEncoder()\n",
        "one_hot_encoder = OneHotEncoder(categories='auto')\n",
        "seq_tr_encoded = []\n",
        "\n",
        "for seq in sequences_tr:\n",
        "    integer_encoded = np.array(integer_encoder.fit_transform(list(seq))).reshape(-1, 1)\n",
        "    one_hot_encoded = one_hot_encoder.fit_transform(integer_encoded)\n",
        "    seq_tr_encoded.append(one_hot_encoded.toarray())\n",
        "\n",
        "np.set_printoptions(threshold=40)\n",
        "seq_tr_encoded = np.stack(seq_tr_encoded)\n",
        "print(sequences_tr[0])\n",
        "print(seq_tr_encoded[0][:10])"
      ],
      "execution_count": 4,
      "outputs": [
        {
          "output_type": "stream",
          "name": "stdout",
          "text": [
            "AAACTATGTTATATTCACGATGATTAACTTACAAAGGAGTTTCAACTATGAAGATGATAAACAAATTAATCGTTCCGGTAACAGCTAGTGCTTTATTATTAGGCGCTTGTGGCGCTAGTGCCACAGACTCTAAAGAAAATACATTAATTTCTTCTAAAGCTGGAGACGTAACAGTTGCAGATACAATGAAAAAAATCGGTAAAGATCAAATTGCAAATGCATCATTTACTGAAATGTTAAATAAAATTTT\n",
            "[[1. 0. 0. 0.]\n",
            " [1. 0. 0. 0.]\n",
            " [1. 0. 0. 0.]\n",
            " [0. 1. 0. 0.]\n",
            " [0. 0. 0. 1.]\n",
            " [1. 0. 0. 0.]\n",
            " [0. 0. 0. 1.]\n",
            " [0. 0. 1. 0.]\n",
            " [0. 0. 0. 1.]\n",
            " [0. 0. 0. 1.]]\n"
          ]
        }
      ]
    },
    {
      "cell_type": "code",
      "metadata": {
        "colab": {
          "base_uri": "https://localhost:8080/"
        },
        "id": "nQus5b1xSMUI",
        "outputId": "75431c61-f35a-435b-c67d-537f020cc7a6"
      },
      "source": [
        "# encode the label\n",
        "one_hot_encoder = OneHotEncoder(categories='auto')\n",
        "sequences_train_label = np.array(sequences_tr_label).reshape(-1, 1)\n",
        "seq_tr_label_encoded = one_hot_encoder.fit_transform(sequences_train_label).toarray()\n",
        "\n",
        "print(sequences_train_label)\n",
        "print(seq_tr_label_encoded[:10])"
      ],
      "execution_count": 5,
      "outputs": [
        {
          "output_type": "stream",
          "name": "stdout",
          "text": [
            "[['7']\n",
            " ['5']\n",
            " ['1']\n",
            " ...\n",
            " ['9']\n",
            " ['1']\n",
            " ['2']]\n",
            "[[0. 0. 0. ... 1. 0. 0.]\n",
            " [0. 0. 0. ... 0. 0. 0.]\n",
            " [0. 1. 0. ... 0. 0. 0.]\n",
            " ...\n",
            " [0. 0. 0. ... 1. 0. 0.]\n",
            " [0. 0. 0. ... 0. 0. 1.]\n",
            " [0. 0. 0. ... 0. 0. 0.]]\n"
          ]
        }
      ]
    },
    {
      "cell_type": "code",
      "metadata": {
        "id": "DJT7GEm8rtOs"
      },
      "source": [
        "# split data set\n",
        "# from sklearn.model_selection import train_test_split\n",
        "# X_train, X_test, y_train, y_test = train_test_split(seq_tr_encoded, seq_tr_label_encoded, test_size=0.25, random_state=2021)"
      ],
      "execution_count": 6,
      "outputs": []
    },
    {
      "cell_type": "code",
      "metadata": {
        "colab": {
          "base_uri": "https://localhost:8080/"
        },
        "id": "0G3wa5Pkpmu_",
        "outputId": "4570cc08-7fbb-494d-e127-8f533b615bf7"
      },
      "source": [
        "# CNN model\n",
        "from tensorflow.keras.layers import Conv1D, Dense, MaxPooling1D, Flatten\n",
        "from tensorflow.keras.models import Sequential\n",
        "\n",
        "cnnModel = Sequential()\n",
        "cnnModel.add(Conv1D(filters=32, kernel_size=12, \n",
        "                 input_shape=(seq_tr_encoded.shape[1], 4)))\n",
        "cnnModel.add(Conv1D(filters=16, kernel_size=16))\n",
        "cnnModel.add(MaxPooling1D(pool_size=4))\n",
        "cnnModel.add(Flatten())\n",
        "cnnModel.add(Dense(16, activation='relu'))\n",
        "cnnModel.add(Dense(10, activation='softmax'))\n",
        "\n",
        "cnnModel.compile(loss='binary_crossentropy', optimizer='adam', \n",
        "              metrics=['binary_accuracy'])\n",
        "cnnModel.summary()"
      ],
      "execution_count": 7,
      "outputs": [
        {
          "output_type": "stream",
          "name": "stdout",
          "text": [
            "Model: \"sequential\"\n",
            "_________________________________________________________________\n",
            "Layer (type)                 Output Shape              Param #   \n",
            "=================================================================\n",
            "conv1d (Conv1D)              (None, 239, 32)           1568      \n",
            "_________________________________________________________________\n",
            "conv1d_1 (Conv1D)            (None, 224, 16)           8208      \n",
            "_________________________________________________________________\n",
            "max_pooling1d (MaxPooling1D) (None, 56, 16)            0         \n",
            "_________________________________________________________________\n",
            "flatten (Flatten)            (None, 896)               0         \n",
            "_________________________________________________________________\n",
            "dense (Dense)                (None, 16)                14352     \n",
            "_________________________________________________________________\n",
            "dense_1 (Dense)              (None, 10)                170       \n",
            "=================================================================\n",
            "Total params: 24,298\n",
            "Trainable params: 24,298\n",
            "Non-trainable params: 0\n",
            "_________________________________________________________________\n"
          ]
        }
      ]
    },
    {
      "cell_type": "code",
      "metadata": {
        "colab": {
          "base_uri": "https://localhost:8080/",
          "height": 295
        },
        "id": "Hfk-XfmWrd0f",
        "outputId": "932ca006-2cfc-4419-a91a-c2102fb307ba"
      },
      "source": [
        "hist = cnnModel.fit(seq_tr_encoded, seq_tr_label_encoded, epochs=50, verbose=0, validation_split=0.25)\n",
        "\n",
        "plt.figure()\n",
        "plt.plot(hist.history['loss'])\n",
        "plt.plot(hist.history['val_loss'])\n",
        "plt.title('model loss')\n",
        "plt.ylabel('loss')\n",
        "plt.xlabel('epoch')\n",
        "plt.legend(['train', 'validation'])\n",
        "plt.show()"
      ],
      "execution_count": 8,
      "outputs": [
        {
          "output_type": "display_data",
          "data": {
            "image/png": "[encoded data removed]",
            "text/plain": [
              "<Figure size 432x288 with 1 Axes>"
            ]
          },
          "metadata": {
            "needs_background": "light"
          }
        }
      ]
    },
    {
      "cell_type": "code",
      "metadata": {
        "id": "b2be0TbOKi04"
      },
      "source": [
        "# prepare the test sequences\n",
        "sequences_test = []\n",
        "sequences_test_label = []\n",
        "i = 0\n",
        "for seq in genome_test:\n",
        "  sequences_test.append(str(seq['seq'].numpy(), encoding))\n",
        "  sequences_test_label.append(str(seq['label'].numpy()))\n",
        "  i = i+1\n",
        "  if i==2:\n",
        "    break\n",
        "\n",
        "seq_test_encoded = []\n",
        "for seq in sequences_test:\n",
        "    integer_encoded = np.array(integer_encoder.fit_transform(list(seq))).reshape(-1, 1)\n",
        "    one_hot_encoded = one_hot_encoder.fit_transform(integer_encoded)\n",
        "    seq_test_encoded.append(one_hot_encoded.toarray())\n",
        "\n",
        "seq_test_encoded = np.stack(seq_test_encoded)\n"
      ],
      "execution_count": 14,
      "outputs": []
    },
    {
      "cell_type": "code",
      "metadata": {
        "colab": {
          "base_uri": "https://localhost:8080/"
        },
        "id": "kz6l13zfN3uC",
        "outputId": "13fa7aa1-6b37-4118-e7eb-043812cd2471"
      },
      "source": [
        "# predict test sequences\n",
        "pred_y = cnnModel.predict(seq_test_encoded)\n",
        "print(np.argmax(pred_y[0]), np.argmax(pred_y[1]))"
      ],
      "execution_count": 19,
      "outputs": [
        {
          "output_type": "stream",
          "name": "stdout",
          "text": [
            "1 8\n"
          ]
        }
      ]
    },
    {
      "cell_type": "code",
      "metadata": {
        "colab": {
          "base_uri": "https://localhost:8080/"
        },
        "id": "hRVVjUVQLrig",
        "outputId": "0de121ad-b51a-497d-c00c-ebecc836b345"
      },
      "source": [
        "# the real labels\n",
        "print(sequences_test_label)"
      ],
      "execution_count": 11,
      "outputs": [
        {
          "output_type": "stream",
          "name": "stdout",
          "text": [
            "['1', '8']\n"
          ]
        }
      ]
    },
    {
      "cell_type": "code",
      "metadata": {
        "id": "XPBNCbSIPvR5"
      },
      "source": [
        "# change 2 letters in the sequences\n",
        "seq_test_encoded[0][100], seq_test_encoded[0][200] = [0., 0., 0., 0.],  [0., 0., 0., 0.]\n",
        "seq_test_encoded[1][100], seq_test_encoded[1][200] = [0., 0., 0., 0.],  [0., 0., 0., 0.]"
      ],
      "execution_count": 21,
      "outputs": []
    },
    {
      "cell_type": "code",
      "metadata": {
        "colab": {
          "base_uri": "https://localhost:8080/"
        },
        "id": "vWbkgCbFQbrK",
        "outputId": "dec4f520-0470-4db7-d100-4195aa0a6a33"
      },
      "source": [
        "# predict again\n",
        "pred_y = cnnModel.predict(seq_test_encoded)\n",
        "print(np.argmax(pred_y[0]), np.argmax(pred_y[1]))"
      ],
      "execution_count": 22,
      "outputs": [
        {
          "output_type": "stream",
          "name": "stdout",
          "text": [
            "1 8\n"
          ]
        }
      ]
    },
    {
      "cell_type": "code",
      "metadata": {
        "id": "JT3Rc7jJQ2Tz"
      },
      "source": [
        "# FCN model\n",
        "from tensorflow.keras.layers import Dropout\n",
        "seq_tr_encoded = seq_tr_encoded.reshape(-1, 1000)\n",
        "fcnModel = Sequential()\n",
        "fcnModel.add(Dense(512, input_shape=(1000,), activation='relu'))\n",
        "fcnModel.add(Dense(512, activation='relu'))\n",
        "fcnModel.add(Dropout(0.2))\n",
        "fcnModel.add(Dense(10, activation='softmax'))\n",
        "fcnModel.summary()"
      ],
      "execution_count": null,
      "outputs": []
    },
    {
      "cell_type": "code",
      "metadata": {
        "colab": {
          "base_uri": "https://localhost:8080/"
        },
        "id": "QjvivCLkV_Gz",
        "outputId": "095f84ff-db73-4ba5-daa9-318705fa6b3c"
      },
      "source": [
        "# train FCN model\n",
        "fcnModel.compile(loss='categorical_crossentropy', optimizer='adam', metrics=['accuracy'])\n",
        "fcnModel.fit(seq_tr_encoded, seq_tr_label_encoded, batch_size=128, epochs=10, verbose=1)"
      ],
      "execution_count": 37,
      "outputs": [
        {
          "output_type": "stream",
          "name": "stdout",
          "text": [
            "Epoch 1/10\n",
            "79/79 [==============================] - 2s 17ms/step - loss: 0.0165 - accuracy: 0.9975\n",
            "Epoch 2/10\n",
            "79/79 [==============================] - 1s 16ms/step - loss: 0.0470 - accuracy: 0.9867\n",
            "Epoch 3/10\n",
            "79/79 [==============================] - 1s 16ms/step - loss: 0.0551 - accuracy: 0.9825\n",
            "Epoch 4/10\n",
            "79/79 [==============================] - 1s 16ms/step - loss: 0.0299 - accuracy: 0.9908\n",
            "Epoch 5/10\n",
            "79/79 [==============================] - 1s 16ms/step - loss: 0.0449 - accuracy: 0.9862\n",
            "Epoch 6/10\n",
            "79/79 [==============================] - 1s 16ms/step - loss: 0.0167 - accuracy: 0.9955\n",
            "Epoch 7/10\n",
            "79/79 [==============================] - 1s 17ms/step - loss: 0.0082 - accuracy: 0.9979\n",
            "Epoch 8/10\n",
            "79/79 [==============================] - 1s 16ms/step - loss: 0.0090 - accuracy: 0.9974\n",
            "Epoch 9/10\n",
            "79/79 [==============================] - 1s 16ms/step - loss: 0.0099 - accuracy: 0.9967\n",
            "Epoch 10/10\n",
            "79/79 [==============================] - 1s 16ms/step - loss: 0.0176 - accuracy: 0.9944\n"
          ]
        },
        {
          "output_type": "execute_result",
          "data": {
            "text/plain": [
              "<keras.callbacks.History at 0x7f212b214690>"
            ]
          },
          "metadata": {},
          "execution_count": 37
        }
      ]
    },
    {
      "cell_type": "code",
      "metadata": {
        "colab": {
          "base_uri": "https://localhost:8080/"
        },
        "id": "njwTQjEnWtfU",
        "outputId": "c474168d-56ba-4743-8260-0fdecedad5ff"
      },
      "source": [
        "# predict test sequences\n",
        "seq_test_encoded = seq_test_encoded.reshape(-1, 1000)\n",
        "pred_y = fcnModel.predict(seq_test_encoded)\n",
        "print(np.argmax(pred_y[0]), np.argmax(pred_y[1]))"
      ],
      "execution_count": 41,
      "outputs": [
        {
          "output_type": "stream",
          "name": "stdout",
          "text": [
            "4 2\n"
          ]
        }
      ]
    }
  ]
}