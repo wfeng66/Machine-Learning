{
  "nbformat": 4,
  "nbformat_minor": 0,
  "metadata": {
    "colab": {
      "name": "Bacterial_ood_DNA.ipynb",
      "provenance": [],
      "collapsed_sections": []
    },
    "kernelspec": {
      "name": "python3",
      "display_name": "Python 3"
    },
    "language_info": {
      "name": "python"
    }
  },
  "cells": [
    {
      "cell_type": "code",
      "metadata": {
        "id": "PlIGi8vmNdM1"
      },
      "source": [
        "import numpy as np\n",
        "import tensorflow as tf\n",
        "import tensorflow_datasets as tfds\n",
        "\n",
        "# load data\n",
        "(genome_train, genome_test) = tfds.load('genomics_ood', split=['train[:1%]', 'test[:1%]'])"
      ],
      "execution_count": 100,
      "outputs": []
    },
    {
      "cell_type": "code",
      "metadata": {
        "colab": {
          "base_uri": "https://localhost:8080/"
        },
        "id": "ODXDFlugOSLC",
        "outputId": "5ad53a56-2829-478f-e96c-b5a29e94ea34"
      },
      "source": [
        "print(len(genome_train), len(genome_test))"
      ],
      "execution_count": 47,
      "outputs": [
        {
          "output_type": "stream",
          "name": "stdout",
          "text": [
            "10000 1000\n"
          ]
        }
      ]
    },
    {
      "cell_type": "code",
      "metadata": {
        "id": "D807K6ZL0Mod"
      },
      "source": [
        "encoding = 'utf-8'\n",
        "sequences_tr = []\n",
        "sequences_tr_label = []\n",
        "i = 0\n",
        "for seq in genome_train:\n",
        "  sequences_tr.append(str(seq['seq'].numpy(), encoding))\n",
        "  sequences_tr_label.append(str(seq['label'].numpy()))\n",
        "  i = i+1\n",
        "  if i==5:\n",
        "    break"
      ],
      "execution_count": 116,
      "outputs": []
    },
    {
      "cell_type": "code",
      "metadata": {
        "id": "twfzAfy9SDV0"
      },
      "source": [
        "# encoding\n",
        "from sklearn.preprocessing import LabelEncoder, OneHotEncoder\n",
        "integer_encoder = LabelEncoder()\n",
        "one_hot_encoder = OneHotEncoder(categories='auto')\n",
        "seq_tr_encoded = []\n",
        "\n",
        "for seq in sequences_tr:\n",
        "    integer_encoded = np.array(integer_encoder.fit_transform(list(seq))).reshape(-1, 1)\n",
        "    one_hot_encoded = one_hot_encoder.fit_transform(integer_encoded)\n",
        "    seq_tr_encoded.append(one_hot_encoded.toarray())\n",
        "\n",
        "np.set_printoptions(threshold=40)\n",
        "seq_tr_encoded = np.stack(seq_tr_encoded)\n",
        "print(sequences_train[0])\n",
        "print(seq_tr_encoded[0][:10])"
      ],
      "execution_count": null,
      "outputs": []
    },
    {
      "cell_type": "code",
      "metadata": {
        "colab": {
          "base_uri": "https://localhost:8080/"
        },
        "id": "nQus5b1xSMUI",
        "outputId": "da38b7f2-eef1-48ed-dd83-bf0d669ead2d"
      },
      "source": [
        "one_hot_encoder = OneHotEncoder(categories='auto')\n",
        "sequences_train_label = np.array(sequences_train_label).reshape(-1, 1)\n",
        "seq_tr_label_encoded = one_hot_encoder.fit_transform(sequences_train_label).toarray\n",
        "\n",
        "print(sequences_train_label)\n",
        "print(seq_tr_label_encoded)"
      ],
      "execution_count": 45,
      "outputs": [
        {
          "output_type": "stream",
          "name": "stdout",
          "text": [
            "[['7']]\n",
            "<bound method _cs_matrix.toarray of <1x1 sparse matrix of type '<class 'numpy.float64'>'\n",
            "\twith 1 stored elements in Compressed Sparse Row format>>\n"
          ]
        }
      ]
    }
  ]
}